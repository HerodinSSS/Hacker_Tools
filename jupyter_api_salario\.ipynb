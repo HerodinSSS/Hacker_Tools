{
 "cells": [
  {
   "cell_type": "markdown",
   "metadata": {},
   "source": [
    "<h1>API Exemplo</h1>"
   ]
  },
  {
   "cell_type": "markdown",
   "metadata": {},
   "source": [
    "<h3>Queremos pegar a cotacao do dolar de forma automatica e atualizada, como fazemos?"
   ]
  },
  {
   "cell_type": "markdown",
   "metadata": {},
   "source": [
    "<p>Usamos a awesome api: <a>https://docs.awesomeapi.com.br/</a> </p>"
   ]
  },
  {
   "cell_type": "markdown",
   "metadata": {},
   "source": [
    "<p>API do Twilio comentada: <a>https://www.twilio.com/docs/libraries/python</a> </p>"
   ]
  },
  {
   "cell_type": "code",
   "execution_count": 11,
   "metadata": {},
   "outputs": [
    {
     "data": {
      "text/plain": [
       "{'USDBRL': {'code': 'USD',\n",
       "  'codein': 'BRL',\n",
       "  'name': 'Dólar Americano/Real Brasileiro',\n",
       "  'high': '5.2011',\n",
       "  'low': '5.131',\n",
       "  'varBid': '0.0107',\n",
       "  'pctChange': '0.21',\n",
       "  'bid': '5.191',\n",
       "  'ask': '5.1942',\n",
       "  'timestamp': '1630702794',\n",
       "  'create_date': '2021-09-03 17:59:54'},\n",
       " 'EURBRL': {'code': 'EUR',\n",
       "  'codein': 'BRL',\n",
       "  'name': 'Euro/Real Brasileiro',\n",
       "  'high': '6.1768',\n",
       "  'low': '6.0908',\n",
       "  'varBid': '0.0176',\n",
       "  'pctChange': '0.29',\n",
       "  'bid': '6.1679',\n",
       "  'ask': '6.1724',\n",
       "  'timestamp': '1630702797',\n",
       "  'create_date': '2021-09-03 17:59:57'},\n",
       " 'BTCBRL': {'code': 'BTC',\n",
       "  'codein': 'BRL',\n",
       "  'name': 'Bitcoin/Real Brasileiro',\n",
       "  'high': '174000',\n",
       "  'low': '163120',\n",
       "  'varBid': '5469.9',\n",
       "  'pctChange': '3.25',\n",
       "  'bid': '173947.2',\n",
       "  'ask': '173947.2',\n",
       "  'timestamp': '1624558019',\n",
       "  'create_date': '2021-06-24 15:06:59'}}"
      ]
     },
     "metadata": {},
     "output_type": "display_data"
    }
   ],
   "source": [
    "import requests\n",
    "import json\n",
    "import pandas\n",
    "\n",
    "cotacoes = requests.get(\"https://economia.awesomeapi.com.br/last/USD-BRL,EUR-BRL,BTC-BRL\")\n",
    "cotacoes = cotacoes.json()\n",
    "cotacoes_dolar = cotacoes['USDBRL']\n",
    "# display(cotacoes)\n",
    "display(cotacoes)"
   ]
  },
  {
   "cell_type": "code",
   "execution_count": null,
   "metadata": {},
   "outputs": [],
   "source": []
  }
 ],
 "metadata": {
  "kernelspec": {
   "display_name": "Python 3 (ipykernel)",
   "language": "python",
   "name": "python3"
  },
  "language_info": {
   "codemirror_mode": {
    "name": "ipython",
    "version": 3
   },
   "file_extension": ".py",
   "mimetype": "text/x-python",
   "name": "python",
   "nbconvert_exporter": "python",
   "pygments_lexer": "ipython3",
   "version": "3.7.3"
  }
 },
 "nbformat": 4,
 "nbformat_minor": 2
}
